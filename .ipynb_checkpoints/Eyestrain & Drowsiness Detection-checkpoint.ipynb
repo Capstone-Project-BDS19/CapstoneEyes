{
 "cells": [
  {
   "cell_type": "code",
   "execution_count": 77,
   "id": "67e906f1",
   "metadata": {
    "executionInfo": {
     "elapsed": 327,
     "status": "ok",
     "timestamp": 1646270525010,
     "user": {
      "displayName": "Harry Le",
      "photoUrl": "https://lh3.googleusercontent.com/a-/AOh14Gi7i4_XqzkM7KujMmQfRXPeQfvMUEkaIw06fLqslQ=s64",
      "userId": "06537148089668787274"
     },
     "user_tz": -660
    },
    "id": "67e906f1"
   },
   "outputs": [],
   "source": [
    "# import the necessary packages\n",
    "# 1. SQL Integration\n",
    "import mysql.connector\n",
    "from mysql.connector import errorcode\n",
    "# 2. Computer Vision\n",
    "from imutils.video import FileVideoStream\n",
    "from imutils.video import VideoStream\n",
    "from imutils import face_utils\n",
    "import imutils\n",
    "import dlib\n",
    "import cv2\n",
    "# 3. Analysis\n",
    "from scipy.spatial import distance as dist\n",
    "import numpy as np\n",
    "import time\n",
    "from datetime import datetime"
   ]
  },
  {
   "cell_type": "code",
   "execution_count": 78,
   "id": "a5950e0c",
   "metadata": {},
   "outputs": [],
   "source": [
    "mydb = mysql.connector.connect(\n",
    "    host = \"localhost\",\n",
    "    user = \"root\",\n",
    "    password = \"___\",\n",
    "    database = 'capstone'\n",
    ")"
   ]
  },
  {
   "cell_type": "code",
   "execution_count": 79,
   "id": "0d5085e5",
   "metadata": {},
   "outputs": [
    {
     "name": "stdout",
     "output_type": "stream",
     "text": [
      "<mysql.connector.connection.MySQLConnection object at 0x00000156924D5B88>\n"
     ]
    }
   ],
   "source": [
    "print(mydb)"
   ]
  },
  {
   "cell_type": "code",
   "execution_count": 80,
   "id": "90c8bbf4",
   "metadata": {},
   "outputs": [],
   "source": [
    "cursor = mydb.cursor()"
   ]
  },
  {
   "cell_type": "code",
   "execution_count": 81,
   "id": "448ce76a",
   "metadata": {},
   "outputs": [],
   "source": [
    "#cursor.execute('CREATE TABLE brLog(timestamp float, blink_count int, blink_rate float, primary key(timestamp))')"
   ]
  },
  {
   "cell_type": "code",
   "execution_count": 82,
   "id": "477108d0",
   "metadata": {
    "executionInfo": {
     "elapsed": 4,
     "status": "ok",
     "timestamp": 1646270525722,
     "user": {
      "displayName": "Harry Le",
      "photoUrl": "https://lh3.googleusercontent.com/a-/AOh14Gi7i4_XqzkM7KujMmQfRXPeQfvMUEkaIw06fLqslQ=s64",
      "userId": "06537148089668787274"
     },
     "user_tz": -660
    },
    "id": "477108d0"
   },
   "outputs": [],
   "source": [
    "hog_face_detector = dlib.get_frontal_face_detector()"
   ]
  },
  {
   "cell_type": "code",
   "execution_count": 83,
   "id": "d3b439b7",
   "metadata": {
    "executionInfo": {
     "elapsed": 1090,
     "status": "ok",
     "timestamp": 1646270529075,
     "user": {
      "displayName": "Harry Le",
      "photoUrl": "https://lh3.googleusercontent.com/a-/AOh14Gi7i4_XqzkM7KujMmQfRXPeQfvMUEkaIw06fLqslQ=s64",
      "userId": "06537148089668787274"
     },
     "user_tz": -660
    },
    "id": "d3b439b7"
   },
   "outputs": [],
   "source": [
    "dlib_facelandmark = dlib.shape_predictor(\"D:/Study/Uni/1. Capstone II/PyCharm Codes/shape_predictor_68_face_landmarks.dat\")"
   ]
  },
  {
   "cell_type": "code",
   "execution_count": 84,
   "id": "d57d32cc",
   "metadata": {
    "executionInfo": {
     "elapsed": 1,
     "status": "ok",
     "timestamp": 1646270525324,
     "user": {
      "displayName": "Harry Le",
      "photoUrl": "https://lh3.googleusercontent.com/a-/AOh14Gi7i4_XqzkM7KujMmQfRXPeQfvMUEkaIw06fLqslQ=s64",
      "userId": "06537148089668787274"
     },
     "user_tz": -660
    },
    "id": "9409b6b5"
   },
   "outputs": [],
   "source": [
    "cap = cv2.VideoCapture(0)"
   ]
  },
  {
   "cell_type": "code",
   "execution_count": 85,
   "id": "b87a7bec",
   "metadata": {
    "colab": {
     "base_uri": "https://localhost:8080/",
     "height": 88
    },
    "executionInfo": {
     "elapsed": 10,
     "status": "ok",
     "timestamp": 1646270529076,
     "user": {
      "displayName": "Harry Le",
      "photoUrl": "https://lh3.googleusercontent.com/a-/AOh14Gi7i4_XqzkM7KujMmQfRXPeQfvMUEkaIw06fLqslQ=s64",
      "userId": "06537148089668787274"
     },
     "user_tz": -660
    },
    "id": "b87a7bec",
    "outputId": "dd59b300-f464-4715-ff0d-9d70ef689e44"
   },
   "outputs": [
    {
     "data": {
      "text/plain": [
       "'\\nwhile True:\\n    _, frame = cap.read()\\n    gray = cv2.cvtColor(frame, cv2.COLOR_BGR2GRAY)\\n\\n    faces = hog_face_detector(gray)\\n    for face in faces:\\n\\n        face_landmarks = dlib_facelandmark(gray, face)\\n\\n        for n in range(0, 68):\\n            x = face_landmarks.part(n).x\\n            y = face_landmarks.part(n).y\\n            cv2.circle(frame, (x, y), 1, (0, 255, 255), 1)\\n\\n\\n    cv2.imshow(\"Face Landmarks\", frame)\\n\\n    key = cv2.waitKey(1)\\n    if key == 27:\\n        break\\ncap.release()\\ncv2.destroyAllWindows()\\n'"
      ]
     },
     "execution_count": 85,
     "metadata": {},
     "output_type": "execute_result"
    }
   ],
   "source": [
    "# Test code for facial detection\n",
    "\"\"\"\n",
    "while True:\n",
    "    _, frame = cap.read()\n",
    "    gray = cv2.cvtColor(frame, cv2.COLOR_BGR2GRAY)\n",
    "\n",
    "    faces = hog_face_detector(gray)\n",
    "    for face in faces:\n",
    "\n",
    "        face_landmarks = dlib_facelandmark(gray, face)\n",
    "\n",
    "        for n in range(0, 68):\n",
    "            x = face_landmarks.part(n).x\n",
    "            y = face_landmarks.part(n).y\n",
    "            cv2.circle(frame, (x, y), 1, (0, 255, 255), 1)\n",
    "\n",
    "\n",
    "    cv2.imshow(\"Face Landmarks\", frame)\n",
    "\n",
    "    key = cv2.waitKey(1)\n",
    "    if key == 27:\n",
    "        break\n",
    "cap.release()\n",
    "cv2.destroyAllWindows()\n",
    "\"\"\""
   ]
  },
  {
   "cell_type": "code",
   "execution_count": 86,
   "id": "fdbfaf2d",
   "metadata": {
    "executionInfo": {
     "elapsed": 9,
     "status": "ok",
     "timestamp": 1646270529076,
     "user": {
      "displayName": "Harry Le",
      "photoUrl": "https://lh3.googleusercontent.com/a-/AOh14Gi7i4_XqzkM7KujMmQfRXPeQfvMUEkaIw06fLqslQ=s64",
      "userId": "06537148089668787274"
     },
     "user_tz": -660
    },
    "id": "fdbfaf2d"
   },
   "outputs": [],
   "source": [
    "def eye_aspect_ratio(eye):\n",
    "\t# compute the euclidean distances between the two sets of\n",
    "\t# vertical eye landmarks (x, y)-coordinates\n",
    "\tA = dist.euclidean(eye[1], eye[5])\n",
    "\tB = dist.euclidean(eye[2], eye[4])\n",
    "\n",
    "\t# compute the euclidean distance between the horizontal\n",
    "\t# eye landmark (x, y)-coordinates\n",
    "\tC = dist.euclidean(eye[0], eye[3])\n",
    "\n",
    "\t# compute the eye aspect ratio\n",
    "\tear = (A + B) / (2.0 * C)\n",
    "\n",
    "\t# return the eye aspect ratio\n",
    "\treturn ear"
   ]
  },
  {
   "cell_type": "code",
   "execution_count": 87,
   "id": "778bff48",
   "metadata": {
    "executionInfo": {
     "elapsed": 9,
     "status": "ok",
     "timestamp": 1646270529077,
     "user": {
      "displayName": "Harry Le",
      "photoUrl": "https://lh3.googleusercontent.com/a-/AOh14Gi7i4_XqzkM7KujMmQfRXPeQfvMUEkaIw06fLqslQ=s64",
      "userId": "06537148089668787274"
     },
     "user_tz": -660
    },
    "id": "778bff48"
   },
   "outputs": [],
   "source": [
    "# define two constants, one for the eye aspect ratio to indicate\n",
    "# blink and then a second constant for the number of consecutive\n",
    "# frames the eye must be below the threshold\n",
    "EYE_AR_THRESH = 0.3\n",
    "EYE_AR_CONSEC_FRAMES = 3\n",
    "\n",
    "# initialize the frame counters and the total number of blinks\n",
    "COUNTER = 0\n",
    "TOTAL = 0"
   ]
  },
  {
   "cell_type": "code",
   "execution_count": 88,
   "id": "88332acf",
   "metadata": {
    "executionInfo": {
     "elapsed": 9,
     "status": "ok",
     "timestamp": 1646270529077,
     "user": {
      "displayName": "Harry Le",
      "photoUrl": "https://lh3.googleusercontent.com/a-/AOh14Gi7i4_XqzkM7KujMmQfRXPeQfvMUEkaIw06fLqslQ=s64",
      "userId": "06537148089668787274"
     },
     "user_tz": -660
    },
    "id": "88332acf"
   },
   "outputs": [],
   "source": [
    "# grab the indexes of the facial landmarks for the left and\n",
    "# right eye, respectively\n",
    "(lStart, lEnd) = face_utils.FACIAL_LANDMARKS_IDXS[\"left_eye\"]\n",
    "(rStart, rEnd) = face_utils.FACIAL_LANDMARKS_IDXS[\"right_eye\"]"
   ]
  },
  {
   "cell_type": "code",
   "execution_count": 89,
   "id": "bd3f8bbd",
   "metadata": {
    "colab": {
     "base_uri": "https://localhost:8080/",
     "height": 234
    },
    "executionInfo": {
     "elapsed": 10,
     "status": "error",
     "timestamp": 1646270529078,
     "user": {
      "displayName": "Harry Le",
      "photoUrl": "https://lh3.googleusercontent.com/a-/AOh14Gi7i4_XqzkM7KujMmQfRXPeQfvMUEkaIw06fLqslQ=s64",
      "userId": "06537148089668787274"
     },
     "user_tz": -660
    },
    "id": "bd3f8bbd",
    "outputId": "73476f73-cc8c-4e56-c37d-0e36af710d45"
   },
   "outputs": [],
   "source": [
    "start_time = time.time()\n",
    "tick = 2\n",
    "while True:\n",
    "    current_time = time.time()\n",
    "    duration = current_time - start_time\n",
    "    _, frame = cap.read()\n",
    "    \n",
    "    gray = cv2.cvtColor(frame, cv2.COLOR_BGR2GRAY)\n",
    "\n",
    "    faces = hog_face_detector(gray)\n",
    "    for face in faces:\n",
    "\n",
    "        face_landmarks = face_utils.shape_to_np(dlib_facelandmark(gray, face))\n",
    "\n",
    "        leftEye = face_landmarks[lStart:lEnd]\n",
    "        rightEye = face_landmarks[rStart:rEnd]\n",
    "        leftEAR = eye_aspect_ratio(leftEye)\n",
    "        rightEAR = eye_aspect_ratio(rightEye)\n",
    "        \n",
    "        # average the eye aspect ratio together for both eyes\n",
    "        ear = (leftEAR + rightEAR) / 2\n",
    "        # compute the convex hull for the left and right eye, then\n",
    "        # visualize each of the eyes\n",
    "        leftEyeHull = cv2.convexHull(leftEye)\n",
    "        rightEyeHull = cv2.convexHull(rightEye)\n",
    "        cv2.drawContours(frame, [leftEyeHull], -1, (0, 255, 0), 1)\n",
    "        cv2.drawContours(frame, [rightEyeHull], -1, (0, 255, 0), 1)\n",
    "        \n",
    "        # check to see if the eye aspect ratio is below the blink\n",
    "        # threshold, and if so, increment the blink frame counter\n",
    "        if ear < EYE_AR_THRESH:\n",
    "            COUNTER += 1\n",
    "            \n",
    "        # otherwise, the eye aspect ratio is not below the blink\n",
    "        # threshold\n",
    "        else:\n",
    "            # if the eyes were closed for a sufficient number of\n",
    "            # then increment the total number of blinks\n",
    "            if COUNTER >= EYE_AR_CONSEC_FRAMES:\n",
    "                TOTAL += 1\n",
    "                \n",
    "            # reset the eye frame counter\n",
    "            COUNTER = 0\n",
    "        \n",
    "        blink_rate = 0\n",
    "        if duration != float(0):\n",
    "            blink_rate = 60*TOTAL/duration\n",
    "        \n",
    "        if int(duration) == tick:\n",
    "            tick += 2\n",
    "            cursor.execute('insert into brLog values (%s,%s,%s)', (duration, TOTAL, blink_rate))            \n",
    "            mydb.commit()\n",
    "\n",
    "        # draw the total number of blinks on the frame along with\n",
    "        # the computed eye aspect ratio for the frame\n",
    "        cv2.putText(frame, \"Blinks: {}\".format(TOTAL), (10, 30),\n",
    "                    cv2.FONT_HERSHEY_SIMPLEX, 0.7, (0, 0, 255), 2)\n",
    "        cv2.putText(frame, \"EAR: {:.2f}\".format(ear), (300, 30),\n",
    "                    cv2.FONT_HERSHEY_SIMPLEX, 0.7, (0, 0, 255), 2)\n",
    "        cv2.putText(frame, \"Duration: {:.2f}\".format(duration), (10, 60),\n",
    "                    cv2.FONT_HERSHEY_SIMPLEX, 0.7, (0, 0, 255), 2)\n",
    "        cv2.putText(frame, \"Blink rate: {:.2f}\".format(blink_rate), (10, 80),\n",
    "                    cv2.FONT_HERSHEY_SIMPLEX, 0.7, (0, 0, 255), 2)\n",
    "\n",
    "    cv2.imshow(\"Face Landmarks\", frame)\n",
    "\n",
    "    key = cv2.waitKey(1)\n",
    "    if key == 27:\n",
    "        break\n",
    "cap.release()\n",
    "cv2.destroyAllWindows()"
   ]
  }
 ],
 "metadata": {
  "colab": {
   "name": "FacialLandmarkTest.ipynb",
   "provenance": []
  },
  "kernelspec": {
   "display_name": "Python 3 (ipykernel)",
   "language": "python",
   "name": "python3"
  },
  "language_info": {
   "codemirror_mode": {
    "name": "ipython",
    "version": 3
   },
   "file_extension": ".py",
   "mimetype": "text/x-python",
   "name": "python",
   "nbconvert_exporter": "python",
   "pygments_lexer": "ipython3",
   "version": "3.7.11"
  }
 },
 "nbformat": 4,
 "nbformat_minor": 5
}
